{
 "cells": [
  {
   "cell_type": "code",
   "execution_count": 1,
   "metadata": {},
   "outputs": [
    {
     "data": {
      "text/html": [
       "<style>.container { width:100% !important; }</style>"
      ],
      "text/plain": [
       "<IPython.core.display.HTML object>"
      ]
     },
     "metadata": {},
     "output_type": "display_data"
    },
    {
     "data": {
      "text/html": [
       "\n",
       "            <div>\n",
       "                <p><b>SparkSession - hive</b></p>\n",
       "                \n",
       "        <div>\n",
       "            <p><b>SparkContext</b></p>\n",
       "\n",
       "            <p><a href=\"http://zhuo-test-0124-m.us-central1-b.c.unity-ads-dd-ds-dev-prd.internal:36431\">Spark UI</a></p>\n",
       "\n",
       "            <dl>\n",
       "              <dt>Version</dt>\n",
       "                <dd><code>v2.4.8</code></dd>\n",
       "              <dt>Master</dt>\n",
       "                <dd><code>yarn</code></dd>\n",
       "              <dt>AppName</dt>\n",
       "                <dd><code>PySparkShell</code></dd>\n",
       "            </dl>\n",
       "        </div>\n",
       "        \n",
       "            </div>\n",
       "        "
      ],
      "text/plain": [
       "<pyspark.sql.session.SparkSession at 0x7fbc54657910>"
      ]
     },
     "execution_count": 1,
     "metadata": {},
     "output_type": "execute_result"
    }
   ],
   "source": [
    "import requests\n",
    "import json\n",
    "import time\n",
    "import re\n",
    "import pprint as pp\n",
    "import web3\n",
    "import traceback\n",
    "import sys\n",
    "from functools import lru_cache\n",
    "from web3 import Web3\n",
    "from web3.auto import w3\n",
    "from web3.contract import Contract\n",
    "from web3._utils.events import get_event_data\n",
    "from web3._utils.abi import exclude_indexed_event_inputs, get_abi_input_names, get_indexed_event_inputs, normalize_event_input_types\n",
    "from web3.exceptions import MismatchedABI, LogTopicError\n",
    "from web3.types import ABIEvent\n",
    "from eth_utils import event_abi_to_log_topic, to_hex\n",
    "from hexbytes import HexBytes\n",
    "from pyspark.sql.types import *\n",
    "from pyspark.sql.functions import udf\n",
    "from pyspark.sql.functions import *\n",
    "from pyspark.sql import functions as F\n",
    "from pyspark.sql import Window\n",
    "from graphframes import GraphFrame\n",
    "from graphframes.examples import Graphs\n",
    "from IPython.core.display import display, HTML\n",
    "display(HTML(\"<style>.container { width:100% !important; }</style>\"))\n",
    "\n",
    "spark"
   ]
  },
  {
   "cell_type": "markdown",
   "metadata": {},
   "source": [
    "## Get tx and logs raw data via BigQuery connector"
   ]
  },
  {
   "cell_type": "code",
   "execution_count": 2,
   "metadata": {},
   "outputs": [
    {
     "name": "stdout",
     "output_type": "stream",
     "text": [
      "+--------------------+--------------------+--------------------+--------------------+----------+\n",
      "|                hash|        from_address|          to_address|               input|      date|\n",
      "+--------------------+--------------------+--------------------+--------------------+----------+\n",
      "|0x4080290efb023bb...|0xd52ee50f173fe2b...|0x7be8076f4ea4a4a...|0xab834bab0000000...|2022-01-05|\n",
      "|0xa6f18cdd60b9bb6...|0x6f14c20d16c4e15...|0x7be8076f4ea4a4a...|0xa8a41c700000000...|2022-01-05|\n",
      "|0xc831022fc5b7bd4...|0x58aacf5e92acf4d...|0x7be8076f4ea4a4a...|0xab834bab0000000...|2022-01-05|\n",
      "|0x43cc962269c4d86...|0xdec0de987db64ad...|0x7be8076f4ea4a4a...|0xab834bab0000000...|2022-01-05|\n",
      "|0xaa5e6f7b17c1991...|0x13cbb2dcbe4d39d...|0x7be8076f4ea4a4a...|0xa8a41c700000000...|2022-01-05|\n",
      "|0x14fbb108aa72e17...|0x389dc720310d618...|0x7be8076f4ea4a4a...|0xab834bab0000000...|2022-01-05|\n",
      "|0xeba8b74f9d64c02...|0x67453d1cc8d3df5...|0x7be8076f4ea4a4a...|0xab834bab0000000...|2022-01-05|\n",
      "|0x6ee6207e8b9cdc3...|0x82c57308ac62c83...|0x7be8076f4ea4a4a...|0xa8a41c700000000...|2022-01-05|\n",
      "|0x2ff0f3b8c88860d...|0xddd3964d75d59b6...|0x7be8076f4ea4a4a...|0xa8a41c700000000...|2022-01-05|\n",
      "|0xab02bbb503c8cbf...|0xb3890baa2ce5e2b...|0x7be8076f4ea4a4a...|0xab834bab0000000...|2022-01-05|\n",
      "+--------------------+--------------------+--------------------+--------------------+----------+\n",
      "only showing top 10 rows\n",
      "\n"
     ]
    }
   ],
   "source": [
    "spark.conf.set(\"viewsEnabled\",\"true\")\n",
    "spark.conf.set(\"materializationDataset\",\"<dataset>\")\n",
    "\n",
    "eth_tx = spark.read.format(\"bigquery\")\\\n",
    "    .option('table', 'bigquery-public-data:crypto_ethereum.transactions') \\\n",
    "    .load()\n",
    "\n",
    "eth_tx.createOrReplaceTempView('eth_tx')\n",
    "sql_hash = \"\"\"\n",
    "select hash, from_address, to_address, block_timestamp as ts, input from eth_tx\n",
    "where to_address = lower('0x7be8076f4ea4a4ad08075c2508e481d6c946d12b')\n",
    "    and DATE(block_timestamp) BETWEEN DATE_ADD(CURRENT_DATE(), -180) AND CURRENT_DATE()\n",
    "\"\"\"\n",
    "\n",
    "df_tx_0 = spark.sql(sql_hash)\n",
    "df_tx = df_tx_0.withColumn(\"date\",to_date(\"ts\")).drop('ts')\n",
    "df_tx.show(10)\n",
    "\n",
    "# df_tx.groupBy('date').count().show()"
   ]
  },
  {
   "cell_type": "code",
   "execution_count": 3,
   "metadata": {},
   "outputs": [
    {
     "name": "stdout",
     "output_type": "stream",
     "text": [
      "+--------------------+--------------------+--------------------+--------------------+----------+\n",
      "|    transaction_hash|         log_address|                data|              topics|  log_date|\n",
      "+--------------------+--------------------+--------------------+--------------------+----------+\n",
      "|0x1d4875069a4f7c8...|0x7be8076f4ea4a4a...|0x000000000000000...|[0xc4109843e0b7d5...|2021-12-02|\n",
      "|0xcf4b3228eea5be8...|0x7be8076f4ea4a4a...|0x000000000000000...|[0xc4109843e0b7d5...|2021-12-02|\n",
      "|0xdd27daccb5ff854...|0x7be8076f4ea4a4a...|0x000000000000000...|[0xc4109843e0b7d5...|2021-12-02|\n",
      "|0x58cb624a20d7be7...|0x7be8076f4ea4a4a...|0x000000000000000...|[0xc4109843e0b7d5...|2021-12-02|\n",
      "|0x0487cd6c6aafe33...|0x7be8076f4ea4a4a...|0x000000000000000...|[0xc4109843e0b7d5...|2021-12-02|\n",
      "|0xc29a5a7a1181449...|0x7be8076f4ea4a4a...|0x000000000000000...|[0xc4109843e0b7d5...|2021-12-02|\n",
      "|0xf50465fb0c651e8...|0x7be8076f4ea4a4a...|0x000000000000000...|[0xc4109843e0b7d5...|2021-12-02|\n",
      "|0x89ddea890376988...|0x7be8076f4ea4a4a...|0x000000000000000...|[0xc4109843e0b7d5...|2021-12-02|\n",
      "|0xfb20fd0bc35db70...|0x7be8076f4ea4a4a...|0x000000000000000...|[0xc4109843e0b7d5...|2021-12-02|\n",
      "|0x797d26af6c761d6...|0x7be8076f4ea4a4a...|0x000000000000000...|[0xc4109843e0b7d5...|2021-12-02|\n",
      "+--------------------+--------------------+--------------------+--------------------+----------+\n",
      "only showing top 10 rows\n",
      "\n"
     ]
    }
   ],
   "source": [
    "eth_logs = spark.read.format(\"bigquery\")\\\n",
    "    .option('table', 'bigquery-public-data:crypto_ethereum.logs') \\\n",
    "    .load()\n",
    "eth_logs.createOrReplaceTempView('eth_logs')\n",
    "\n",
    "sql_logs = \"\"\"\n",
    "SELECT transaction_hash, address as log_address, data, topics, block_timestamp as ts FROM eth_logs \n",
    "WHERE address = lower('0x7be8076f4ea4a4ad08075c2508e481d6c946d12b') \n",
    "    and DATE(block_timestamp) BETWEEN DATE_ADD(CURRENT_DATE(), -180) AND CURRENT_DATE()\n",
    "\"\"\"\n",
    "\n",
    "df_logs_0 = spark.sql(sql_logs)\n",
    "df_logs = df_logs_0.withColumn(\"log_date\",to_date(\"ts\")).drop('ts')\n",
    "df_logs.show(10)\n",
    "\n",
    "# df_logs.groupBy('date').count().show()"
   ]
  },
  {
   "cell_type": "markdown",
   "metadata": {},
   "source": [
    "## Join tx and logs to get order input data and topics"
   ]
  },
  {
   "cell_type": "code",
   "execution_count": 4,
   "metadata": {},
   "outputs": [
    {
     "name": "stdout",
     "output_type": "stream",
     "text": [
      "root\n",
      " |-- hash: string (nullable = false)\n",
      " |-- from_address: string (nullable = false)\n",
      " |-- to_address: string (nullable = true)\n",
      " |-- log_address: string (nullable = true)\n",
      " |-- input: string (nullable = true)\n",
      " |-- data: string (nullable = true)\n",
      " |-- topics: array (nullable = true)\n",
      " |    |-- element: string (containsNull = true)\n",
      " |-- date: date (nullable = false)\n",
      "\n",
      "+--------------------+--------------------+--------------------+--------------------+--------------------+--------------------+--------------------+----------+\n",
      "|                hash|        from_address|          to_address|         log_address|               input|                data|              topics|      date|\n",
      "+--------------------+--------------------+--------------------+--------------------+--------------------+--------------------+--------------------+----------+\n",
      "|0x000064ffbca7f32...|0x4808c6dd4047dd1...|0x7be8076f4ea4a4a...|0x7be8076f4ea4a4a...|0xab834bab0000000...|0x000000000000000...|[0xc4109843e0b7d5...|2021-11-27|\n",
      "|0x00018dbb1114149...|0x47779fb6af29f21...|0x7be8076f4ea4a4a...|0x7be8076f4ea4a4a...|0xab834bab0000000...|0x000000000000000...|[0xc4109843e0b7d5...|2022-01-04|\n",
      "|0x0005237597ea423...|0x1d8d536166a21d7...|0x7be8076f4ea4a4a...|0x7be8076f4ea4a4a...|0xab834bab0000000...|0x000000000000000...|[0xc4109843e0b7d5...|2021-08-27|\n",
      "|0x00079c3020188a5...|0x67ba790828c3091...|0x7be8076f4ea4a4a...|0x7be8076f4ea4a4a...|0xa8a41c700000000...|                  0x|[0x5152abf959f656...|2021-12-27|\n",
      "|0x000920c2313d813...|0x74f290c9fd627d6...|0x7be8076f4ea4a4a...|0x7be8076f4ea4a4a...|0xab834bab0000000...|0x000000000000000...|[0xc4109843e0b7d5...|2022-01-09|\n",
      "|0x000a7d29f553fe9...|0x8f4f597e38e9308...|0x7be8076f4ea4a4a...|0x7be8076f4ea4a4a...|0xa8a41c700000000...|                  0x|[0x5152abf959f656...|2021-08-24|\n",
      "|0x000adf0bce917d2...|0x28265b4188ff587...|0x7be8076f4ea4a4a...|0x7be8076f4ea4a4a...|0xab834bab0000000...|0xa3d27f347b957d6...|[0xc4109843e0b7d5...|2021-09-28|\n",
      "|0x000b3fcc61b1e73...|0x6851c8c6c3ac260...|0x7be8076f4ea4a4a...|0x7be8076f4ea4a4a...|0xab834bab0000000...|0x000000000000000...|[0xc4109843e0b7d5...|2022-01-08|\n",
      "|0x000b4de3c8d9bbd...|0xcb758c0b26d52ff...|0x7be8076f4ea4a4a...|0x7be8076f4ea4a4a...|0xa8a41c700000000...|                  0x|[0x5152abf959f656...|2022-01-18|\n",
      "|0x000cfb4afe90385...|0x1158094cd0efcc2...|0x7be8076f4ea4a4a...|0x7be8076f4ea4a4a...|0xab834bab0000000...|0x000000000000000...|[0xc4109843e0b7d5...|2021-12-22|\n",
      "+--------------------+--------------------+--------------------+--------------------+--------------------+--------------------+--------------------+----------+\n",
      "only showing top 10 rows\n",
      "\n"
     ]
    }
   ],
   "source": [
    "df_join = df_tx.join(df_logs, df_tx.hash == df_logs.transaction_hash, 'inner')\n",
    "df_join = df_join.withColumn(\"combined\", F.to_json(F.struct(\"data\", \"topics\")))\n",
    "# df_join = df_join.groupby(\"hash\").agg(F.collect_list(\"combined\").alias(\"combined_list\"))\n",
    "# df_join = df_join.withColumn(\"combined_list\", F.collect_list('combined').over(Window.partitionBy(\"hash\")))\n",
    "# use window function\n",
    "\n",
    "cols = ['hash', 'from_address', 'to_address', 'log_address', 'input', 'data', 'topics', 'date' ]\n",
    "df_join = df_join.select(cols)\n",
    "# df_join = df_join.select(cols).distinct()\n",
    "df_join.printSchema()\n",
    "# rows = df_join.select('transaction_hash', 'combined').take(2)\n",
    "df_join.show(10)"
   ]
  },
  {
   "cell_type": "markdown",
   "metadata": {},
   "source": [
    "### ** In general you have to join aggregated results with the original table. Spark SQL follows the same pre-SQL:1999 convention as most of the major databases (PostgreSQL, Oracle, MS SQL Server) which doesn't allow additional columns in aggregation queries.\n",
    "\n"
   ]
  },
  {
   "cell_type": "markdown",
   "metadata": {},
   "source": [
    "## Decode single transaction"
   ]
  },
  {
   "cell_type": "code",
   "execution_count": 7,
   "metadata": {},
   "outputs": [],
   "source": [
    "\n",
    "def decode_tuple(t, target_field):\n",
    "    output = dict()\n",
    "    for i in range(len(t)):\n",
    "        if isinstance(t[i], (bytes, bytearray)):\n",
    "            output[target_field[i]['name']] = to_hex(t[i])\n",
    "        elif isinstance(t[i], (tuple)):\n",
    "            output[target_field[i]['name']] = decode_tuple(t[i], target_field[i]['components'])\n",
    "        else:\n",
    "            output[target_field[i]['name']] = t[i]\n",
    "    return output\n",
    "\n",
    "\n",
    "def decode_list_tuple(l, target_field):\n",
    "    output = l\n",
    "    for i in range(len(l)):\n",
    "        output[i] = decode_tuple(l[i], target_field)\n",
    "    return output\n",
    "\n",
    "\n",
    "def decode_list(l):\n",
    "    output = l\n",
    "    for i in range(len(l)):\n",
    "        if isinstance(l[i], (bytes, bytearray)):\n",
    "            output[i] = to_hex(l[i])\n",
    "        else:\n",
    "            output[i] = l[i]\n",
    "    return output\n",
    "\n",
    "\n",
    "def convert_to_hex(arg, target_schema):\n",
    "    output = dict()\n",
    "    for k in arg:\n",
    "        if isinstance(arg[k], (bytes, bytearray)):\n",
    "            output[k] = to_hex(arg[k])\n",
    "        elif isinstance(arg[k], (list)) and len(arg[k]) > 0:\n",
    "            target = [a for a in target_schema if 'name' in a and a['name'] == k][0]\n",
    "            if target['type'] == 'tuple[]':\n",
    "                target_field = target['components']\n",
    "                output[k] = decode_list_tuple(arg[k], target_field)\n",
    "            else:\n",
    "                output[k] = decode_list(arg[k])\n",
    "        elif isinstance(arg[k], (tuple)):\n",
    "            target_field = [a['components'] for a in target_schema if 'name' in a and a['name'] == k][0]\n",
    "            output[k] = decode_tuple(arg[k], target_field)\n",
    "        else:\n",
    "            output[k] = arg[k]\n",
    "    return output\n",
    "\n",
    "# @lru_cache(maxsize=None)\n",
    "def _get_contract(address, abi):\n",
    "    \"\"\"\n",
    "    This helps speed up execution of decoding across a large dataset by caching the contract object\n",
    "    It assumes that we are decoding a small set, on the order of thousands, of target smart contracts\n",
    "    \"\"\"\n",
    "    if isinstance(abi, (str)):\n",
    "        abi = json.loads(abi)\n",
    "\n",
    "    contract = w3.eth.contract(address=Web3.toChecksumAddress(address), abi=abi)\n",
    "    return (contract, abi)\n",
    "\n",
    "@udf\n",
    "def decode_tx(address, input_data, abi):\n",
    "    if abi is not None:\n",
    "        try:\n",
    "            (contract, abi) = _get_contract(address, abi)\n",
    "            func_obj, func_params = contract.decode_function_input(input_data)\n",
    "            target_schema = [a['inputs'] for a in abi if 'name' in a and a['name'] == func_obj.fn_name][0]\n",
    "            decoded_func_params = convert_to_hex(func_params, target_schema)\n",
    "            return func_obj.fn_name # json.dumps(decoded_func_params), json.dumps(target_schema))\n",
    "        except:\n",
    "            e = sys.exc_info()[0]\n",
    "            return ('decode error', repr(e), None)\n",
    "    else:\n",
    "        return ('no matching abi', None, None)\n"
   ]
  },
  {
   "cell_type": "markdown",
   "metadata": {},
   "source": [
    "## Decode single log"
   ]
  },
  {
   "cell_type": "code",
   "execution_count": 8,
   "metadata": {},
   "outputs": [],
   "source": [
    "from web3._utils.events import get_event_data\n",
    "\n",
    "# @lru_cache(maxsize=None)\n",
    "def _get_topic2abi(abi):\n",
    "    if isinstance(abi, (str)):\n",
    "        abi = json.loads(abi)\n",
    "\n",
    "    event_abi = [a for a in abi if a[\"type\"] == \"event\"]\n",
    "    topic2abi = {event_abi_to_log_topic(_): _ for _ in event_abi}\n",
    "    return topic2abi\n",
    "\n",
    "\n",
    "# @lru_cache(maxsize=None)\n",
    "def _get_hex_topic(t):\n",
    "    hex_t = HexBytes(t)\n",
    "    return hex_t\n",
    "\n",
    "\n",
    "def decode_log(data, topics, abi):\n",
    "    if abi is not None:\n",
    "        try:\n",
    "            topic2abi = _get_topic2abi(abi)\n",
    "\n",
    "            log = {\n",
    "                \"address\": None,  # Web3.toChecksumAddress(address),\n",
    "                \"blockHash\": None,  # HexBytes(blockHash),\n",
    "                \"blockNumber\": None,\n",
    "                \"data\": data,\n",
    "                \"logIndex\": None,\n",
    "                \"topics\": [_get_hex_topic(_) for _ in topics],\n",
    "                \"transactionHash\": None,  # HexBytes(transactionHash),\n",
    "                \"transactionIndex\": None,\n",
    "            }\n",
    "            event_abi = topic2abi[log[\"topics\"][0]]\n",
    "            evt_name = event_abi[\"name\"]\n",
    "\n",
    "            data = get_event_data(w3.codec, event_abi, log)[\"args\"]\n",
    "            target_schema = event_abi[\"inputs\"]\n",
    "            decoded_data = convert_to_hex(data, target_schema)\n",
    "\n",
    "            return (evt_name, json.dumps(decoded_data), json.dumps(target_schema))\n",
    "        except Exception:\n",
    "            return (\"decode error\", traceback.format_exc(), None)\n",
    "\n",
    "    else:\n",
    "        return (\"no matching abi\", None, None)"
   ]
  },
  {
   "cell_type": "markdown",
   "metadata": {},
   "source": [
    "## Get ABIs for OpenSea marketplace(Wyvern protocol) and selected NFT contracts"
   ]
  },
  {
   "cell_type": "code",
   "execution_count": 14,
   "metadata": {},
   "outputs": [],
   "source": [
    "TX_HASH = '0x56f2ce34e4b20578742ed8ddc9fcbacaec62d477a530dff7ace8da2fe64b1208'\n",
    "OPENSEA_CONTRACT_ADDR = \"0x7be8076f4ea4a4ad08075c2508e481d6c946d12b\"\n",
    "BORED_APE_ADDR = \"0xBC4CA0EdA7647A8aB7C2061c2E118A18a936f13D\".lower()\n",
    "name_list = [\n",
    "    ('0x8a90CAb2b38dba80c64b7734e58Ee1dB38B8992e', 'Doodles'),\n",
    "    ('0xb47e3cd837dDF8e4c57F05d70Ab865de6e193BBB', 'CyptoPunks'),\n",
    "    ('0x60E4d786628Fea6478F785A6d7e704777c86a7c6', 'MutantApe'),\n",
    "    ('0x50f5474724e0Ee42D9a4e711ccFB275809Fd6d4a', 'Sandbox'),\n",
    "    ('0xBC4CA0EdA7647A8aB7C2061c2E118A18a936f13D', 'BoredApe'),\n",
    "]\n",
    "name_mappings = dict()\n",
    "for t in name_list:\n",
    "    name_mappings[t[0].lower()] = t[1]\n",
    "    \n",
    "\n",
    "def fetch_abi(contract_addr):\n",
    "    ABI_ENDPOINT = 'https://api.etherscan.io/api?module=contract&action=getabi&address='\n",
    "    response = requests.get('%s%s'%(ABI_ENDPOINT, contract_addr))\n",
    "    response_json = response.json()\n",
    "    abi_json = json.loads(response_json['result'])\n",
    "    return json.dumps(abi_json)\n",
    "\n",
    "opensea_abi = fetch_abi(OPENSEA_CONTRACT_ADDR)\n",
    "time.sleep(5)\n",
    "nft_abi = fetch_abi(BORED_APE_ADDR)\n",
    "\n",
    "time.sleep(5)\n",
    "\n",
    "nft_contract_mappings = dict()\n",
    "for t in name_list:\n",
    "    nft_contract_mappings[t[0].lower()] = fetch_abi(t[0])\n",
    "    time.sleep(5)\n"
   ]
  },
  {
   "cell_type": "code",
   "execution_count": 15,
   "metadata": {},
   "outputs": [
    {
     "data": {
      "text/plain": [
       "{'0x8a90cab2b38dba80c64b7734e58ee1db38b8992e': 'Doodles',\n",
       " '0xb47e3cd837ddf8e4c57f05d70ab865de6e193bbb': 'CyptoPunks',\n",
       " '0x60e4d786628fea6478f785a6d7e704777c86a7c6': 'MutantApe',\n",
       " '0x50f5474724e0ee42d9a4e711ccfb275809fd6d4a': 'Sandbox',\n",
       " '0xbc4ca0eda7647a8ab7c2061c2e118a18a936f13d': 'BoredApe'}"
      ]
     },
     "execution_count": 15,
     "metadata": {},
     "output_type": "execute_result"
    }
   ],
   "source": [
    "name_mappings"
   ]
  },
  {
   "cell_type": "code",
   "execution_count": 16,
   "metadata": {},
   "outputs": [
    {
     "name": "stdout",
     "output_type": "stream",
     "text": [
      "root\n",
      " |-- hash: string (nullable = false)\n",
      " |-- from_address: string (nullable = false)\n",
      " |-- to_address: string (nullable = true)\n",
      " |-- log_address: string (nullable = true)\n",
      " |-- input: string (nullable = true)\n",
      " |-- data: string (nullable = true)\n",
      " |-- topics: array (nullable = true)\n",
      " |    |-- element: string (containsNull = true)\n",
      " |-- date: date (nullable = false)\n",
      "\n"
     ]
    }
   ],
   "source": [
    "df_join.printSchema()\n"
   ]
  },
  {
   "cell_type": "markdown",
   "metadata": {},
   "source": [
    "## Batch decoding using mapPartitions"
   ]
  },
  {
   "cell_type": "code",
   "execution_count": 17,
   "metadata": {},
   "outputs": [],
   "source": [
    "def decode(partitionData):\n",
    "    (contract, abi) = _get_contract(OPENSEA_CONTRACT_ADDR, opensea_abi)\n",
    "    for row in partitionData:\n",
    "        if row['input'] is None:\n",
    "            continue\n",
    "        try:\n",
    "            func_obj, func_params = contract.decode_function_input(row['input'])\n",
    "            target_schema = [a['inputs'] for a in abi if 'name' in a and a['name'] == func_obj.fn_name][0]\n",
    "            decoded_func_params = convert_to_hex(func_params, target_schema)\n",
    "            if func_obj.fn_name == 'atomicMatch_':\n",
    "#                 from_ = decoded_func_params['from']\n",
    "#                 to_ = decoded_func_params['to']\n",
    "#                 tokenId = decoded_func_params['tokenId']\n",
    "                collectible = decoded_func_params['addrs'][4].lower()\n",
    "                price = int(decoded_func_params['uints'][4]) / 10**18\n",
    "                if collectible in name_mappings:\n",
    "                    #decode log\n",
    "                    data = row['data']\n",
    "                    topics = row['topics']\n",
    "                    tx_hash = row['hash']\n",
    "                    output = decode_log(data, topics, opensea_abi)\n",
    "                    joutput = json.loads(output[1])\n",
    "                    maker = joutput['maker']\n",
    "                    taker = joutput['taker']\n",
    "                    yield (tx_hash, name_mappings[collectible], maker, taker, price, row['date'])\n",
    "        except:\n",
    "            e = sys.exc_info()[0]\n",
    "            return ('decode error', repr(e), None)\n",
    "\n",
    "\n",
    "df2 = df_join.rdd.mapPartitions(decode).toDF(['tx_hash', 'collectible', 'maker', 'taker', 'price', 'date'])\n"
   ]
  },
  {
   "cell_type": "code",
   "execution_count": 18,
   "metadata": {},
   "outputs": [],
   "source": [
    "from graphframes import *\n",
    "df_cache = df2.persist()"
   ]
  },
  {
   "cell_type": "code",
   "execution_count": 19,
   "metadata": {},
   "outputs": [
    {
     "name": "stdout",
     "output_type": "stream",
     "text": [
      "+--------------------+-----------+--------------------+--------------------+---------+----------+\n",
      "|             tx_hash|collectible|               maker|               taker|    price|      date|\n",
      "+--------------------+-----------+--------------------+--------------------+---------+----------+\n",
      "|0x00b8454de263500...|    Sandbox|0x4e26F82AE5760C2...|0x98636A231b89985...|     3.21|2022-01-18|\n",
      "|0x00d09eb410acff6...|  MutantApe|0x721F6Dbdbf6cAe4...|0xAEF39b6fd3d3fEc...|      4.5|2021-11-12|\n",
      "|0x0148a6426966398...|    Sandbox|0xc75fC5Aa2270B3c...|0xB43E8A6a604d954...|      8.0|2021-12-26|\n",
      "|0x01d039b9a4e9196...|  MutantApe|0xb3f8dae49c7F0e9...|0xBD275ED21e220cC...|      6.7|2021-08-29|\n",
      "|0x01f560c5add9962...|  MutantApe|0x829D111B70845bf...|0x0f494317eB4E532...|     3.49|2021-10-20|\n",
      "|0x02288021266acd4...|  MutantApe|0xc6d2f1134480c62...|0x34805E6A3796Fb0...|3.5918025|2021-09-13|\n",
      "|0x034225494e78e9b...|    Doodles|0xAd727E3f0a939e0...|0x690c1E77630aa2c...|      1.0|2021-10-18|\n",
      "|0x038cc1656efe6a0...|  MutantApe|0xcA28C224f5c4E8F...|0xe49C9Ead44F73e3...|     6.89|2021-11-19|\n",
      "|0x04c3b04564f0a47...|   BoredApe|0xCc917Fbc8da3A73...|0x4a935a866E9D334...|    39.75|2021-09-18|\n",
      "|0x05224ae20c35873...|    Doodles|0xF4eAD9B781102c6...|0x0Eeb91bFB03A18C...|    1.069|2021-10-17|\n",
      "|0x05b7971b2794e3a...|   BoredApe|0x2604fb7B2c561D6...|0x749bd6B114bA2e7...|     25.0|2021-07-31|\n",
      "|0x0613be45df15b5c...|    Sandbox|0x517FF5B16C6059A...|0xf0cEb5c0a47D8A8...|      4.0|2022-01-04|\n",
      "|0x069510efdc2bce2...|    Sandbox|0x9d39d4E995B7Bec...|0xF1fe4259cdf7c71...|      3.9|2022-01-02|\n",
      "|0x072b60f56032f64...|  MutantApe|0x3f873E3d9849254...|0xA61Ddf306C729de...|   5.9898|2021-08-29|\n",
      "|0x081650a36a149a4...|    Sandbox|0x9Fed225115A1374...|0x6Ed75480cC456F3...|     1.25|2021-11-11|\n",
      "|0x08c91c92ff2e952...|    Doodles|0x26Af94023F4F35B...|0x149fD340cA0DF54...|      1.3|2021-10-18|\n",
      "|0x0b7f94fc8df01b8...|    Sandbox|0x31efDec50e27aFE...|0x4A8dC94f3F72217...|    3.153|2021-12-19|\n",
      "|0x0b92ed785ea022a...|  MutantApe|0xE2d8E9Ac6779B68...|0x54B174179Ae825E...|      4.0|2021-10-11|\n",
      "|0x0cab31d230877e8...|    Sandbox|0xE772f37e7AcE9b0...|0x8ed88fab01eb990...|     2.79|2021-12-23|\n",
      "|0x0d83ce226a7fbc4...|    Sandbox|0x7546Ff64cc71df6...|0x5db0822Ad9A9fB9...|      4.0|2021-11-28|\n",
      "+--------------------+-----------+--------------------+--------------------+---------+----------+\n",
      "only showing top 20 rows\n",
      "\n"
     ]
    }
   ],
   "source": [
    "df_cache.show()"
   ]
  },
  {
   "cell_type": "code",
   "execution_count": null,
   "metadata": {},
   "outputs": [],
   "source": [
    "df_cache.count()"
   ]
  },
  {
   "cell_type": "markdown",
   "metadata": {},
   "source": [
    "## Graph algorithms(maker/taker as vertices and transfer as edges)"
   ]
  },
  {
   "cell_type": "code",
   "execution_count": null,
   "metadata": {},
   "outputs": [],
   "source": [
    "from pyspark.sql.functions import col\n",
    "\n",
    "vertices = df_cache.select(col('maker').alias('id')).distinct().union(df_cache.select(col('taker').alias('id')).distinct()).persist()\n",
    "print(vertices.count())\n",
    "edges = df_cache.select([col('maker').alias('src'), col('taker').alias('dst')]).persist()\n",
    "print(edges.count())\n",
    "\n"
   ]
  },
  {
   "cell_type": "code",
   "execution_count": null,
   "metadata": {},
   "outputs": [],
   "source": [
    "g = GraphFrame(vertices, edges)\n",
    "print(g)\n"
   ]
  },
  {
   "cell_type": "code",
   "execution_count": null,
   "metadata": {},
   "outputs": [],
   "source": [
    "g.inDegrees.show()"
   ]
  },
  {
   "cell_type": "code",
   "execution_count": null,
   "metadata": {},
   "outputs": [],
   "source": [
    "g.outDegrees.show()"
   ]
  },
  {
   "cell_type": "code",
   "execution_count": null,
   "metadata": {},
   "outputs": [],
   "source": [
    "sc.setCheckpointDir(\"/tmp/graphframes-example-connected-components\")\n",
    "result = g.connectedComponents()\n"
   ]
  },
  {
   "cell_type": "code",
   "execution_count": null,
   "metadata": {},
   "outputs": [],
   "source": [
    "# result.groupby('component').count().show(100)"
   ]
  },
  {
   "cell_type": "markdown",
   "metadata": {},
   "source": [
    "### Rocha-Thatte algorithm for cycle detection"
   ]
  },
  {
   "cell_type": "code",
   "execution_count": null,
   "metadata": {},
   "outputs": [],
   "source": [
    "from graphframes.lib import *\n",
    "AM=AggregateMessages\n",
    "f=F\n",
    "\n",
    "def find_cycles(sqlContext,sc,vertices,edges,max_iter=5):\n",
    "\n",
    "    # Cycle detection via message aggregation\n",
    "    \"\"\"\n",
    "    This code is an implementation of the Rocha-Thatte algorithm for large-scale sparce graphs\n",
    "\n",
    "    Source:\n",
    "    ==============\n",
    "    wiki:  https://en.wikipedia.org/wiki/Rocha%E2%80%93Thatte_cycle_detection_algorithm\n",
    "    paper: https://www.researchgate.net/publication/283642998_Distributed_cycle_detection_in_large-scale_sparse_graphs\n",
    "\n",
    "    The basic idea:\n",
    "    ===============\n",
    "    We propose a general algorithm for detecting cycles in a directed graph G by message passing among its vertices, \n",
    "    based on the bulk synchronous message passing abstraction. This is a vertex-centric approach in which the vertices \n",
    "    of the graph work together for detecting cycles. The bulk synchronous parallel model consists of a sequence of iterations, \n",
    "    in each of which a vertex can receive messages sent by other vertices in the previous iteration, and send messages to other \n",
    "    vertices.\n",
    "    In each pass, each active vertex of G sends a set of sequences of vertices to its out- neighbours as described next. \n",
    "    In the first pass, each vertex v sends the message (v) to all its out- neighbours. In subsequent iterations, each active vertex v \n",
    "    appends v to each sequence it received in the previous iteration. It then sends all the updated sequences to its out-neighbours. \n",
    "    If v has not received any message in the previous iteration, then v deactivates itself. The algorithm terminates when all the \n",
    "    vertices have been deactivated.\n",
    "    For a sequence (v1, v2, . . . , vk) received by vertex v, the appended sequence is not for- warded in two cases: (i) if v = v1, \n",
    "    then v has detected a cycle, which is reported (see line 9 of Algorithm 1); (ii) if v = vi for some i ∈ {2, 3, . . . , k}, \n",
    "    then v has detected a sequence that contains the cycle (v = vi, vi+1, . . . , vk, vk+1 = v); in this case, \n",
    "    the sequence is discarded, since the cycle must have been detected in an earlier iteration (see line 11 of Algorithm 1); \n",
    "    to be precise, this cycle must have been detected in iteration k − i + 1. Every cycle (v1, v2, . . . , vk, vk+1 = v1) \n",
    "    is detected by all vi,i = 1 to k in the same iteration; it is reported by the vertex min{v1,...,vk} (see line 9 of Algorithm 1).\n",
    "    The total number of iterations of the algorithm is the number of vertices in the longest path in the graph, plus a few more steps \n",
    "    for deactivating the final vertices. During the analysis of the total number of iterations, we ignore the few extra iterations \n",
    "    needed for deactivating the final vertices and detecting the end of the computation, since it is O(1).\n",
    "    \n",
    "    Pseudocode of the algorithm:\n",
    "    ============================\n",
    "    M(v): Message received from vertex v\n",
    "    N+(v): all dst verties from v\n",
    "\n",
    "    functionCOMPUTE(M(v)):\n",
    "        if i=0 then:\n",
    "            for each w ∈ N+(v) do:\n",
    "                send (v) to w \n",
    "        else if M(v) = ∅ then:\n",
    "                deactivate v and halt \n",
    "        else:\n",
    "            for each (v1,v2,...,vk) ∈ M(v) do:\n",
    "                if v1 = v and min{v1,v2,...,vk} = v then:\n",
    "                    report (v1 = v,v2,...,vk,vk+1 = v)\n",
    "                else if v not ∈ {v2,...,vk} then:\n",
    "                    for each w ∈ N+(v) do:\n",
    "                        send (v1,v2,...,vk,v) to w\n",
    "\n",
    "    \n",
    "    Scalablitiy of the algorithm:\n",
    "    ============================\n",
    "    the number of iteration depends on the path of the longest cycle\n",
    "    the scaling it between \n",
    "    O(log(n)) up to maxium O(n) where n=number of vertices\n",
    "    so the number of iterations is less to max linear to the number of vertices, \n",
    "    if there are more edges (parallel etc.) it will not affect the the runtime\n",
    "\n",
    "\n",
    "    for more details please refer to the oringinal publication\n",
    "    \"\"\"\n",
    "\n",
    "\n",
    "#     _logger.warning(\"+++ find_cycles(): starting cycle search ...\")\n",
    "    \n",
    "    # create emtpy dataframe to collect all cycles\n",
    "    cycles = sqlContext.createDataFrame(sc.emptyRDD(),StructType([StructField(\"cycle\",ArrayType(StringType()),True)]))\n",
    "\n",
    "    # initialize the messege column with own source id \n",
    "    init_vertices=(vertices\n",
    "                   .withColumn(\"message\",f.array(f.col(\"id\")))\n",
    "                  )\n",
    "    \n",
    "    init_edges=(edges\n",
    "                .where(f.col(\"src\")!=f.col(\"dst\"))\n",
    "                .select(\"src\",\"dst\")\n",
    "                )\n",
    "    \n",
    "    # create graph object that will be update each iteration\n",
    "    gx = GraphFrame(init_vertices, init_edges)\n",
    "\n",
    "    # iterate until max_iter \n",
    "    # max iter is used in case that the3 break condition is never reached during this time\n",
    "    # defaul value=100.000\n",
    "    for iter_ in range(max_iter):\n",
    "        \n",
    "        # message that should be send to destination for aggregation\n",
    "        msgToDst = AM.src[\"message\"]\n",
    "        # aggregate all messages that where received into a python set (drops duplicate edges)\n",
    "        agg = gx.aggregateMessages(\n",
    "            f.collect_set(AM.msg).alias(\"aggMess\"),\n",
    "            sendToSrc=None,\n",
    "            sendToDst=msgToDst)\n",
    "        \n",
    "        # BREAK condition: if no more messages are received all cycles where found \n",
    "        # and we can quit the loop        \n",
    "        if(len(agg.take(1))==0):\n",
    "            #print(\"THE END: All cycles found in \" + str(iter_) + \" iterations\")\n",
    "            break\n",
    "        \n",
    "        # apply the alorithm logic \n",
    "        # filter for cycles that should be reported as found\n",
    "        # compose new message to be send for next iteration\n",
    "        # _column name stands for temporary columns that are only used in the algo and then dropped again\n",
    "        checkVerties=(\n",
    "            agg\n",
    "            # flatten the aggregated message from [[2]] to [] in order to have proper 1D arrays\n",
    "            .withColumn(\"_flatten1\",f.explode(f.col(\"aggMess\")))\n",
    "            # take first element of the array\n",
    "            .withColumn(\"_first_element_agg\",f.element_at(f.col(\"_flatten1\"), 1))\n",
    "            # take minimum element of th array\n",
    "            .withColumn(\"_min_agg\",f.array_min(f.col(\"_flatten1\")))\n",
    "            # check if it is a cycle \n",
    "            # it is cycle when v1 = v and min{v1,v2,...,vk} = v\n",
    "            .withColumn(\"_is_cycle\",f.when(\n",
    "                (f.col(\"id\")==f.col(\"_first_element_agg\")) &\n",
    "                (f.col(\"id\")==f.col(\"_min_agg\"))\n",
    "                 ,True)\n",
    "                .otherwise(False)\n",
    "            )\n",
    "            # pick cycle that should be reported=append to cylce list\n",
    "            .withColumn(\"_cycle_to_report\",f.when(f.col(\"_is_cycle\")==True,f.col(\"_flatten1\")).otherwise(None))\n",
    "            # sort array to have duplicates the same\n",
    "            .withColumn(\"_cycle_to_report\",f.sort_array(\"_cycle_to_report\"))\n",
    "            # create column where first array is removed to check if the current vertices is part of v=(v2,...vk)\n",
    "            .withColumn(\"_slice\",f.array_except(f.col(\"_flatten1\"), f.array(f.element_at(f.col(\"_flatten1\"), 1)))) \n",
    "            # check if vertices is part of the slice and set True/False column\n",
    "            .withColumn(\"_is_cycle2\",f.lit(f.size(f.array_except(f.array(f.col(\"id\")), f.col(\"_slice\"))) == 0))\n",
    "           )\n",
    "        \n",
    "        #print(\"checked Vertices\")\n",
    "        #checkVerties.show(truncate=False)\n",
    "        # append found cycles to result dataframe via union\n",
    "        cycles=(\n",
    "            # take existing cycles dataframe\n",
    "            cycles\n",
    "            .union(\n",
    "                # union=append all cyles that are in the current reporting column\n",
    "                checkVerties\n",
    "                .where(f.col(\"_cycle_to_report\").isNotNull())\n",
    "                .select(\"_cycle_to_report\")\n",
    "                )\n",
    "        )\n",
    "\n",
    "        # create list of new messages that will be send in the next iteration to the vertices\n",
    "        newVertices=(\n",
    "            checkVerties\n",
    "            # append current vertex id on position 1\n",
    "            .withColumn(\"message\",f.concat(\n",
    "                f.coalesce(f.col(\"_flatten1\"), f.array()),\n",
    "                f.coalesce(f.array(f.col(\"id\")), f.array())\n",
    "            ))\n",
    "            # only send where it is no cycle duplicate\n",
    "            .where(f.col(\"_is_cycle2\")==False)\n",
    "            .select(\"id\",\"message\")\n",
    "        )\n",
    "\n",
    "        print(\"vertics to send forward\")\n",
    "        newVertices.sort(\"id\").show(truncate=False)\n",
    "        \n",
    "        # cache new vertices using workaround for SPARK-1334\n",
    "        cachedNewVertices = AM.getCachedDataFrame(newVertices)\n",
    "\n",
    "        # update graphframe object for next round\n",
    "        gx = GraphFrame(cachedNewVertices, gx.edges)\n",
    "\n",
    "\n",
    "    \n",
    "    # materialize results and get number of found cycles\n",
    "    #cycles_count=cycles.persist().count()\n",
    "\n",
    "    _cycle_statistics=(\n",
    "        cycles\n",
    "        .withColumn(\"cycle_length\",f.size(f.col(\"cycle\")))\n",
    "        .agg(f.count(f.col(\"cycle\")),f.max(f.col(\"cycle_length\")),f.min(f.col(\"cycle_length\")))\n",
    "        ).collect()\n",
    "\n",
    "    cycle_statistics={\"count\":_cycle_statistics[0][\"count(cycle)\"],\"max\":_cycle_statistics[0][\"max(cycle_length)\"],\"min\":_cycle_statistics[0][\"min(cycle_length)\"]}\n",
    "    \n",
    "    end_time =time.time()\n",
    "#     _logger.warning(\"+++ find_cycles(): \" + str(cycle_statistics[\"count\"]) + \" cycles found in \" + str(iter_) + \" iterations (min length=\" + str(cycle_statistics[\"min\"]) +\", max length=\"+ str(cycle_statistics[\"max\"]) +\") in \" + str(end_time-start_time) + \" seconds\")\n",
    "#     _logger.warning(\"+++ #########################################################################################\")\n",
    "\n",
    "\n",
    "    return cycles, cycle_statistics\n"
   ]
  },
  {
   "cell_type": "code",
   "execution_count": null,
   "metadata": {},
   "outputs": [],
   "source": [
    "cycles, cycle_statistics = find_cycles(spark,spark.sparkContext,vertices,edges)"
   ]
  },
  {
   "cell_type": "code",
   "execution_count": null,
   "metadata": {},
   "outputs": [],
   "source": [
    "cycles, cycle_statistics"
   ]
  },
  {
   "cell_type": "markdown",
   "metadata": {},
   "source": [
    "## TODO: Graph neural network modeling\n",
    "### reference: https://github.com/safe-graph/graph-fraud-detection-papers"
   ]
  },
  {
   "cell_type": "markdown",
   "metadata": {},
   "source": [
    "## Analyze data with Pandas"
   ]
  },
  {
   "cell_type": "code",
   "execution_count": 21,
   "metadata": {},
   "outputs": [
    {
     "ename": "NameError",
     "evalue": "name 'df2' is not defined",
     "output_type": "error",
     "traceback": [
      "\u001b[0;31m---------------------------------------------------------------------------\u001b[0m",
      "\u001b[0;31mNameError\u001b[0m                                 Traceback (most recent call last)",
      "\u001b[0;32m<ipython-input-21-a7871656d4f0>\u001b[0m in \u001b[0;36m<module>\u001b[0;34m\u001b[0m\n\u001b[1;32m      1\u001b[0m \u001b[0;32mimport\u001b[0m \u001b[0mpandas\u001b[0m \u001b[0;32mas\u001b[0m \u001b[0mpd\u001b[0m\u001b[0;34m\u001b[0m\u001b[0;34m\u001b[0m\u001b[0m\n\u001b[0;32m----> 2\u001b[0;31m \u001b[0mpdf\u001b[0m \u001b[0;34m=\u001b[0m \u001b[0mdf2\u001b[0m\u001b[0;34m.\u001b[0m\u001b[0mtoPandas\u001b[0m\u001b[0;34m(\u001b[0m\u001b[0;34m)\u001b[0m\u001b[0;34m\u001b[0m\u001b[0;34m\u001b[0m\u001b[0m\n\u001b[0m",
      "\u001b[0;31mNameError\u001b[0m: name 'df2' is not defined"
     ]
    }
   ],
   "source": [
    "import pandas as pd\n",
    "pdf = df2.toPandas()\n"
   ]
  },
  {
   "cell_type": "code",
   "execution_count": 22,
   "metadata": {},
   "outputs": [
    {
     "ename": "NameError",
     "evalue": "name 'pdf' is not defined",
     "output_type": "error",
     "traceback": [
      "\u001b[0;31m---------------------------------------------------------------------------\u001b[0m",
      "\u001b[0;31mNameError\u001b[0m                                 Traceback (most recent call last)",
      "\u001b[0;32m<ipython-input-22-946f82623a68>\u001b[0m in \u001b[0;36m<module>\u001b[0;34m\u001b[0m\n\u001b[0;32m----> 1\u001b[0;31m \u001b[0mpdf\u001b[0m\u001b[0;34m.\u001b[0m\u001b[0mhead\u001b[0m\u001b[0;34m(\u001b[0m\u001b[0;36m10\u001b[0m\u001b[0;34m)\u001b[0m\u001b[0;34m\u001b[0m\u001b[0;34m\u001b[0m\u001b[0m\n\u001b[0m",
      "\u001b[0;31mNameError\u001b[0m: name 'pdf' is not defined"
     ]
    },
    {
     "name": "stderr",
     "output_type": "stream",
     "text": [
      "Exception ignored in: <module 'threading' from '/opt/conda/anaconda/lib/python3.7/threading.py'>\n",
      "Traceback (most recent call last):\n",
      "  File \"/opt/conda/anaconda/lib/python3.7/threading.py\", line 1308, in _shutdown\n",
      "    lock.acquire()\n",
      "  File \"/usr/lib/spark/python/pyspark/context.py\", line 270, in signal_handler\n",
      "    raise KeyboardInterrupt()\n",
      "KeyboardInterrupt: \n",
      "Error in atexit._run_exitfuncs:\n",
      "Traceback (most recent call last):\n",
      "  File \"/opt/conda/anaconda/lib/python3.7/threading.py\", line 552, in wait\n",
      "    signaled = self._cond.wait(timeout)\n",
      "  File \"/opt/conda/anaconda/lib/python3.7/threading.py\", line 296, in wait\n",
      "    waiter.acquire()\n",
      "  File \"/usr/lib/spark/python/pyspark/context.py\", line 269, in signal_handler\n",
      "    self.cancelAllJobs()\n",
      "  File \"/usr/lib/spark/python/pyspark/context.py\", line 1039, in cancelAllJobs\n",
      "    self._jsc.sc().cancelAllJobs()\n",
      "AttributeError: 'NoneType' object has no attribute 'sc'\n"
     ]
    }
   ],
   "source": [
    "pdf.head(10)"
   ]
  },
  {
   "cell_type": "code",
   "execution_count": 57,
   "metadata": {},
   "outputs": [
    {
     "data": {
      "text/html": [
       "<div>\n",
       "<style scoped>\n",
       "    .dataframe tbody tr th:only-of-type {\n",
       "        vertical-align: middle;\n",
       "    }\n",
       "\n",
       "    .dataframe tbody tr th {\n",
       "        vertical-align: top;\n",
       "    }\n",
       "\n",
       "    .dataframe thead th {\n",
       "        text-align: right;\n",
       "    }\n",
       "</style>\n",
       "<table border=\"1\" class=\"dataframe\">\n",
       "  <thead>\n",
       "    <tr style=\"text-align: right;\">\n",
       "      <th></th>\n",
       "      <th>count</th>\n",
       "      <th>mean</th>\n",
       "      <th>std</th>\n",
       "      <th>min</th>\n",
       "      <th>25%</th>\n",
       "      <th>50%</th>\n",
       "      <th>75%</th>\n",
       "      <th>max</th>\n",
       "    </tr>\n",
       "    <tr>\n",
       "      <th>date</th>\n",
       "      <th></th>\n",
       "      <th></th>\n",
       "      <th></th>\n",
       "      <th></th>\n",
       "      <th></th>\n",
       "      <th></th>\n",
       "      <th></th>\n",
       "      <th></th>\n",
       "    </tr>\n",
       "  </thead>\n",
       "  <tbody>\n",
       "    <tr>\n",
       "      <th>2021-08-23</th>\n",
       "      <td>10.0</td>\n",
       "      <td>28.695000</td>\n",
       "      <td>5.579296</td>\n",
       "      <td>22.0000</td>\n",
       "      <td>24.0625</td>\n",
       "      <td>28.745</td>\n",
       "      <td>29.9925</td>\n",
       "      <td>40.00</td>\n",
       "    </tr>\n",
       "    <tr>\n",
       "      <th>2021-08-24</th>\n",
       "      <td>15.0</td>\n",
       "      <td>39.465760</td>\n",
       "      <td>9.737879</td>\n",
       "      <td>27.3434</td>\n",
       "      <td>31.9950</td>\n",
       "      <td>36.250</td>\n",
       "      <td>46.4500</td>\n",
       "      <td>62.00</td>\n",
       "    </tr>\n",
       "    <tr>\n",
       "      <th>2021-08-25</th>\n",
       "      <td>18.0</td>\n",
       "      <td>39.095739</td>\n",
       "      <td>7.113590</td>\n",
       "      <td>32.3690</td>\n",
       "      <td>35.1675</td>\n",
       "      <td>37.595</td>\n",
       "      <td>39.8250</td>\n",
       "      <td>62.00</td>\n",
       "    </tr>\n",
       "    <tr>\n",
       "      <th>2021-08-26</th>\n",
       "      <td>5.0</td>\n",
       "      <td>131.820000</td>\n",
       "      <td>205.876081</td>\n",
       "      <td>35.4100</td>\n",
       "      <td>37.6900</td>\n",
       "      <td>38.000</td>\n",
       "      <td>48.0000</td>\n",
       "      <td>500.00</td>\n",
       "    </tr>\n",
       "    <tr>\n",
       "      <th>2021-08-27</th>\n",
       "      <td>5.0</td>\n",
       "      <td>49.733800</td>\n",
       "      <td>13.744148</td>\n",
       "      <td>39.1000</td>\n",
       "      <td>39.5000</td>\n",
       "      <td>42.069</td>\n",
       "      <td>58.0000</td>\n",
       "      <td>70.00</td>\n",
       "    </tr>\n",
       "    <tr>\n",
       "      <th>...</th>\n",
       "      <td>...</td>\n",
       "      <td>...</td>\n",
       "      <td>...</td>\n",
       "      <td>...</td>\n",
       "      <td>...</td>\n",
       "      <td>...</td>\n",
       "      <td>...</td>\n",
       "      <td>...</td>\n",
       "    </tr>\n",
       "    <tr>\n",
       "      <th>2022-01-13</th>\n",
       "      <td>2.0</td>\n",
       "      <td>117.500000</td>\n",
       "      <td>24.748737</td>\n",
       "      <td>100.0000</td>\n",
       "      <td>108.7500</td>\n",
       "      <td>117.500</td>\n",
       "      <td>126.2500</td>\n",
       "      <td>135.00</td>\n",
       "    </tr>\n",
       "    <tr>\n",
       "      <th>2022-01-15</th>\n",
       "      <td>23.0</td>\n",
       "      <td>85.919565</td>\n",
       "      <td>7.379906</td>\n",
       "      <td>78.6900</td>\n",
       "      <td>80.0000</td>\n",
       "      <td>84.000</td>\n",
       "      <td>89.8450</td>\n",
       "      <td>105.00</td>\n",
       "    </tr>\n",
       "    <tr>\n",
       "      <th>2022-01-16</th>\n",
       "      <td>4.0</td>\n",
       "      <td>96.000000</td>\n",
       "      <td>13.928388</td>\n",
       "      <td>85.0000</td>\n",
       "      <td>85.0000</td>\n",
       "      <td>92.500</td>\n",
       "      <td>103.5000</td>\n",
       "      <td>114.00</td>\n",
       "    </tr>\n",
       "    <tr>\n",
       "      <th>2022-01-17</th>\n",
       "      <td>1.0</td>\n",
       "      <td>88.880000</td>\n",
       "      <td>NaN</td>\n",
       "      <td>88.8800</td>\n",
       "      <td>88.8800</td>\n",
       "      <td>88.880</td>\n",
       "      <td>88.8800</td>\n",
       "      <td>88.88</td>\n",
       "    </tr>\n",
       "    <tr>\n",
       "      <th>2022-01-18</th>\n",
       "      <td>3.0</td>\n",
       "      <td>84.466667</td>\n",
       "      <td>2.247962</td>\n",
       "      <td>82.0000</td>\n",
       "      <td>83.5000</td>\n",
       "      <td>85.000</td>\n",
       "      <td>85.7000</td>\n",
       "      <td>86.40</td>\n",
       "    </tr>\n",
       "  </tbody>\n",
       "</table>\n",
       "<p>94 rows × 8 columns</p>\n",
       "</div>"
      ],
      "text/plain": [
       "            count        mean         std       min       25%      50%  \\\n",
       "date                                                                     \n",
       "2021-08-23   10.0   28.695000    5.579296   22.0000   24.0625   28.745   \n",
       "2021-08-24   15.0   39.465760    9.737879   27.3434   31.9950   36.250   \n",
       "2021-08-25   18.0   39.095739    7.113590   32.3690   35.1675   37.595   \n",
       "2021-08-26    5.0  131.820000  205.876081   35.4100   37.6900   38.000   \n",
       "2021-08-27    5.0   49.733800   13.744148   39.1000   39.5000   42.069   \n",
       "...           ...         ...         ...       ...       ...      ...   \n",
       "2022-01-13    2.0  117.500000   24.748737  100.0000  108.7500  117.500   \n",
       "2022-01-15   23.0   85.919565    7.379906   78.6900   80.0000   84.000   \n",
       "2022-01-16    4.0   96.000000   13.928388   85.0000   85.0000   92.500   \n",
       "2022-01-17    1.0   88.880000         NaN   88.8800   88.8800   88.880   \n",
       "2022-01-18    3.0   84.466667    2.247962   82.0000   83.5000   85.000   \n",
       "\n",
       "                 75%     max  \n",
       "date                          \n",
       "2021-08-23   29.9925   40.00  \n",
       "2021-08-24   46.4500   62.00  \n",
       "2021-08-25   39.8250   62.00  \n",
       "2021-08-26   48.0000  500.00  \n",
       "2021-08-27   58.0000   70.00  \n",
       "...              ...     ...  \n",
       "2022-01-13  126.2500  135.00  \n",
       "2022-01-15   89.8450  105.00  \n",
       "2022-01-16  103.5000  114.00  \n",
       "2022-01-17   88.8800   88.88  \n",
       "2022-01-18   85.7000   86.40  \n",
       "\n",
       "[94 rows x 8 columns]"
      ]
     },
     "execution_count": 57,
     "metadata": {},
     "output_type": "execute_result"
    }
   ],
   "source": [
    "des = pdf.groupby('date')['price'].describe()\n",
    "des\n"
   ]
  },
  {
   "cell_type": "markdown",
   "metadata": {},
   "source": [
    "## Outliers in terms of matched price"
   ]
  },
  {
   "cell_type": "code",
   "execution_count": 59,
   "metadata": {},
   "outputs": [
    {
     "data": {
      "text/plain": [
       "<matplotlib.axes._subplots.AxesSubplot at 0x7f03752e0c50>"
      ]
     },
     "execution_count": 59,
     "metadata": {},
     "output_type": "execute_result"
    },
    {
     "data": {
      "image/png": "[encoded data removed]",
      "text/plain": [
       "<Figure size 1800x576 with 1 Axes>"
      ]
     },
     "metadata": {
      "needs_background": "light"
     },
     "output_type": "display_data"
    }
   ],
   "source": [
    "pdf.boxplot(grid=False, rot=45, fontsize=8, column=['price'], by='date', figsize=(25,8))\n"
   ]
  },
  {
   "cell_type": "code",
   "execution_count": null,
   "metadata": {},
   "outputs": [],
   "source": []
  }
 ],
 "metadata": {
  "kernelspec": {
   "display_name": "Python 3",
   "language": "python",
   "name": "python3"
  },
  "language_info": {
   "codemirror_mode": {
    "name": "ipython",
    "version": 3
   },
   "file_extension": ".py",
   "mimetype": "text/x-python",
   "name": "python",
   "nbconvert_exporter": "python",
   "pygments_lexer": "ipython3",
   "version": "3.7.9"
  }
 },
 "nbformat": 4,
 "nbformat_minor": 4
}
